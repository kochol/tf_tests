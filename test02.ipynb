{
  "nbformat": 4,
  "nbformat_minor": 0,
  "metadata": {
    "colab": {
      "name": "test02.ipynb",
      "version": "0.3.2",
      "provenance": [],
      "collapsed_sections": [],
      "toc_visible": true,
      "include_colab_link": true
    },
    "kernelspec": {
      "name": "python3",
      "display_name": "Python 3"
    }
  },
  "cells": [
    {
      "cell_type": "markdown",
      "metadata": {
        "id": "view-in-github",
        "colab_type": "text"
      },
      "source": [
        "<a href=\"https://colab.research.google.com/github/kochol/tf_tests/blob/master/test02.ipynb\" target=\"_parent\"><img src=\"https://colab.research.google.com/assets/colab-badge.svg\" alt=\"Open In Colab\"/></a>"
      ]
    },
    {
      "cell_type": "markdown",
      "metadata": {
        "id": "e-O1bNBRsjFd",
        "colab_type": "text"
      },
      "source": [
        "# Test 02\n",
        "\n",
        "This is my second test to predict the bitcoin price.\n",
        "\n",
        "This is a simple model that gets the candle of last 100 hours and try to preedict the next 24 hour price.\n",
        "\n",
        "This test failed :("
      ]
    },
    {
      "cell_type": "code",
      "metadata": {
        "id": "neZ_3gOysUrv",
        "colab_type": "code",
        "outputId": "c0117e79-a0d7-42ac-dce7-b2e2bb9a31f7",
        "colab": {
          "base_uri": "https://localhost:8080/",
          "height": 51
        }
      },
      "source": [
        "import tensorflow as tf\n",
        "from tensorflow.keras import layers\n",
        "\n",
        "# enable tf eager execution to support iterating\n",
        "# tf.enable_eager_execution()\n",
        "\n",
        "print(tf.VERSION)\n",
        "print(tf.keras.__version__)"
      ],
      "execution_count": 1,
      "outputs": [
        {
          "output_type": "stream",
          "text": [
            "1.13.1\n",
            "2.2.4-tf\n"
          ],
          "name": "stdout"
        }
      ]
    },
    {
      "cell_type": "markdown",
      "metadata": {
        "id": "GQthiRce4G1w",
        "colab_type": "text"
      },
      "source": [
        "## The parameters\n",
        "\n"
      ]
    },
    {
      "cell_type": "code",
      "metadata": {
        "id": "-rSK0S2q4V3Y",
        "colab_type": "code",
        "colab": {}
      },
      "source": [
        "# The candle hours that we want to send it as input\n",
        "in_hours = 100 #@param\n",
        "\n",
        "# The price prediction that we want to get from our model\n",
        "out_hours = 24 #@param\n",
        "\n",
        "# The data we want to use as validation\n",
        "val_hours = 100 #@param\n",
        "\n",
        "# The layer nerouns count\n",
        "nn_count = 6400 #@param\n",
        "\n",
        "# The data file name to load data from\n",
        "data_filename = 'binance_last_3m.csv' #@param {type: \"string\"}"
      ],
      "execution_count": 0,
      "outputs": []
    },
    {
      "cell_type": "markdown",
      "metadata": {
        "id": "AUznfhHyyMhl",
        "colab_type": "text"
      },
      "source": [
        "## Load data from csv file"
      ]
    },
    {
      "cell_type": "code",
      "metadata": {
        "id": "8LP_zhLGyQ0p",
        "colab_type": "code",
        "outputId": "a3160d12-c461-4ed9-8b35-e68ed031c988",
        "colab": {
          "base_uri": "https://localhost:8080/",
          "height": 340
        }
      },
      "source": [
        "import pandas as pd\n",
        "import numpy as np\n",
        "\n",
        "# Download mydata.csv from github\n",
        "!curl --remote-name \\\n",
        "     -H 'Accept: application/vnd.github.v3.raw' \\\n",
        "     --location https://raw.githubusercontent.com/kochol/tf_tests/master/{data_filename}\n",
        "\n",
        "# load all data\n",
        "mydata = pd.read_csv(data_filename)\n",
        "\n",
        "print(mydata.columns)\n",
        "print(mydata.dtypes)\n",
        "print(mydata.shape)"
      ],
      "execution_count": 3,
      "outputs": [
        {
          "output_type": "stream",
          "text": [
            "  % Total    % Received % Xferd  Average Speed   Time    Time     Time  Current\n",
            "                                 Dload  Upload   Total   Spent    Left  Speed\n",
            "\r  0     0    0     0    0     0      0      0 --:--:-- --:--:-- --:--:--     0\r100  182k  100  182k    0     0   825k      0 --:--:-- --:--:-- --:--:--  825k\n",
            "Index(['year', 'month', 'date', 'hour', 'open', 'high', 'low', 'close', 'vwp',\n",
            "       'volume', 'trades'],\n",
            "      dtype='object')\n",
            "year        int64\n",
            "month       int64\n",
            "date        int64\n",
            "hour        int64\n",
            "open      float64\n",
            "high      float64\n",
            "low       float64\n",
            "close     float64\n",
            "vwp       float64\n",
            "volume    float64\n",
            "trades      int64\n",
            "dtype: object\n",
            "(2274, 11)\n"
          ],
          "name": "stdout"
        }
      ]
    },
    {
      "cell_type": "markdown",
      "metadata": {
        "id": "GxaIDYj2Vu30",
        "colab_type": "text"
      },
      "source": [
        "## Prepare the data for training"
      ]
    },
    {
      "cell_type": "code",
      "metadata": {
        "id": "vgXylRmsWPPA",
        "colab_type": "code",
        "outputId": "bcb1a64f-c43d-464c-ecd2-6c85be81f2cc",
        "colab": {
          "base_uri": "https://localhost:8080/",
          "height": 85
        }
      },
      "source": [
        "sum_val = val_hours + out_hours\n",
        "sum_test = sum_val + out_hours\n",
        "\n",
        "train = pd.DataFrame(\n",
        "    {       \n",
        "        'year': mydata[0:-sum_test].year.astype('int32'),\n",
        "        'month': mydata[0:-sum_test].month.astype('int32'),\n",
        "        'date': mydata[0:-sum_test].date.astype('int32'),\n",
        "        'hour': mydata[0:-sum_test].hour.astype('int32'),\n",
        "        'open': mydata[0:-sum_test].open.astype('int32'),\n",
        "        'high': mydata[0:-sum_test].high.astype('int32'),\n",
        "        'low': mydata[0:-sum_test].low.astype('int32'),\n",
        "        'close': mydata[0:-sum_test].close.astype('int32'),\n",
        "        'vwp': mydata[0:-sum_test].vwp.astype('int32'),\n",
        "        'volume': mydata[0:-sum_test].volume.astype('int32'),\n",
        "        'trades': mydata[0:-sum_test].trades.astype('int32')\n",
        "    })\n",
        "print(train.shape)\n",
        "\n",
        "test = pd.DataFrame({'price': mydata[in_hours:-sum_val].close.astype('int32')})\n",
        "print(test.shape)\n",
        "\n",
        "val_in = pd.DataFrame(\n",
        "    {\n",
        "        'year': mydata[-sum_val:-out_hours].year.astype('int32'),\n",
        "        'month': mydata[-sum_val:-out_hours].month.astype('int32'),\n",
        "        'date': mydata[-sum_val:-out_hours].date.astype('int32'),\n",
        "        'hour': mydata[-sum_val:-out_hours].hour.astype('int32'),\n",
        "        'open': mydata[-sum_val:-out_hours].open.astype('int32'),\n",
        "        'high': mydata[-sum_val:-out_hours].high.astype('int32'),\n",
        "        'low': mydata[-sum_val:-out_hours].low.astype('int32'),\n",
        "        'close': mydata[-sum_val:-out_hours].close.astype('int32'),\n",
        "        'vwp': mydata[-sum_val:-out_hours].vwp.astype('int32'),\n",
        "        'volume': mydata[-sum_val:-out_hours].volume.astype('int32'),\n",
        "        'trades': mydata[-sum_val:-out_hours].trades.astype('int32')\n",
        "    })\n",
        "print(val_in.shape)\n",
        "\n",
        "val_test = pd.DataFrame({'price': mydata[-out_hours:].close.astype('int32')})\n",
        "print(val_test.shape)"
      ],
      "execution_count": 4,
      "outputs": [
        {
          "output_type": "stream",
          "text": [
            "(2126, 11)\n",
            "(2050, 1)\n",
            "(100, 11)\n",
            "(24, 1)\n"
          ],
          "name": "stdout"
        }
      ]
    },
    {
      "cell_type": "markdown",
      "metadata": {
        "id": "4EK5PHCxs9gL",
        "colab_type": "text"
      },
      "source": [
        "## Create the model"
      ]
    },
    {
      "cell_type": "code",
      "metadata": {
        "id": "qip2UQO5s5fJ",
        "colab_type": "code",
        "outputId": "1c4ebe33-40bc-4858-8efb-f9f00e383528",
        "colab": {
          "base_uri": "https://localhost:8080/",
          "height": 360
        }
      },
      "source": [
        "model = tf.keras.models.Sequential([\n",
        "  tf.keras.layers.Flatten(input_shape=(in_hours, len(mydata.columns))),\n",
        "  tf.keras.layers.Dense(nn_count, activation='relu'),\n",
        "  tf.keras.layers.Dense(out_hours)\n",
        "])\n",
        "\n",
        "# I want to calc on float numbers so I use mse and mae for loss and metrics\n",
        "# Also I have to find out which optimizer is good for me.\n",
        "model.compile(optimizer=tf.train.RMSPropOptimizer(0.001),\n",
        "              loss='mse',\n",
        "              metrics=['mae', 'mse'])\n",
        "\n",
        "model.summary()"
      ],
      "execution_count": 5,
      "outputs": [
        {
          "output_type": "stream",
          "text": [
            "WARNING:tensorflow:From /usr/local/lib/python3.6/dist-packages/tensorflow/python/ops/resource_variable_ops.py:435: colocate_with (from tensorflow.python.framework.ops) is deprecated and will be removed in a future version.\n",
            "Instructions for updating:\n",
            "Colocations handled automatically by placer.\n",
            "WARNING:tensorflow:From /usr/local/lib/python3.6/dist-packages/tensorflow/python/keras/utils/losses_utils.py:170: to_float (from tensorflow.python.ops.math_ops) is deprecated and will be removed in a future version.\n",
            "Instructions for updating:\n",
            "Use tf.cast instead.\n",
            "_________________________________________________________________\n",
            "Layer (type)                 Output Shape              Param #   \n",
            "=================================================================\n",
            "flatten (Flatten)            (None, 1100)              0         \n",
            "_________________________________________________________________\n",
            "dense (Dense)                (None, 6400)              7046400   \n",
            "_________________________________________________________________\n",
            "dense_1 (Dense)              (None, 24)                153624    \n",
            "=================================================================\n",
            "Total params: 7,200,024\n",
            "Trainable params: 7,200,024\n",
            "Non-trainable params: 0\n",
            "_________________________________________________________________\n"
          ],
          "name": "stdout"
        }
      ]
    },
    {
      "cell_type": "markdown",
      "metadata": {
        "id": "fjl8t8WE7rGh",
        "colab_type": "text"
      },
      "source": [
        "## Train the model"
      ]
    },
    {
      "cell_type": "code",
      "metadata": {
        "id": "TxrRGyGj8nSQ",
        "colab_type": "code",
        "colab": {
          "base_uri": "https://localhost:8080/",
          "height": 1941
        },
        "outputId": "69a24f05-0d77-4678-e03d-4c2d5d60a978"
      },
      "source": [
        "train_np = train.to_numpy()\n",
        "test_np = test.to_numpy()\n",
        "input_size = len(train_np) - in_hours\n",
        "print(input_size)\n",
        "\n",
        "def generate_data():\n",
        "  while (1):\n",
        "    for i in range(0, input_size + 1):\n",
        "      x = train_np[i:in_hours+i]\n",
        "      x = x[np.newaxis, :, :]\n",
        "      y = test_np[i:out_hours+i]\n",
        "      y = y.transpose()\n",
        "      yield (x, y)\n",
        "     \n",
        "model.fit_generator(generate_data(), steps_per_epoch=input_size, epochs=100)"
      ],
      "execution_count": 0,
      "outputs": [
        {
          "output_type": "stream",
          "text": [
            "2026\n",
            "WARNING:tensorflow:From /usr/local/lib/python3.6/dist-packages/tensorflow/python/ops/math_ops.py:3066: to_int32 (from tensorflow.python.ops.math_ops) is deprecated and will be removed in a future version.\n",
            "Instructions for updating:\n",
            "Use tf.cast instead.\n",
            "Epoch 1/100\n",
            "2026/2026 [==============================] - 66s 32ms/step - loss: 5241390.0081 - mean_absolute_error: 484.1494 - mean_squared_error: 5241398.5000\n",
            "Epoch 2/100\n",
            "2026/2026 [==============================] - 67s 33ms/step - loss: 22202.2884 - mean_absolute_error: 134.4943 - mean_squared_error: 22202.2754\n",
            "Epoch 3/100\n",
            "2026/2026 [==============================] - 67s 33ms/step - loss: 16840.8645 - mean_absolute_error: 115.8517 - mean_squared_error: 16840.8652\n",
            "Epoch 4/100\n",
            "2026/2026 [==============================] - 67s 33ms/step - loss: 17352.8991 - mean_absolute_error: 121.2243 - mean_squared_error: 17352.9121\n",
            "Epoch 5/100\n",
            "2026/2026 [==============================] - 67s 33ms/step - loss: 16627.6465 - mean_absolute_error: 118.9501 - mean_squared_error: 16627.6348\n",
            "Epoch 6/100\n",
            "2026/2026 [==============================] - 72s 36ms/step - loss: 16891.0206 - mean_absolute_error: 120.0200 - mean_squared_error: 16891.0098\n",
            "Epoch 7/100\n",
            "2026/2026 [==============================] - 95s 47ms/step - loss: 16581.6085 - mean_absolute_error: 120.1052 - mean_squared_error: 16581.5918\n",
            "Epoch 8/100\n",
            "2026/2026 [==============================] - 98s 48ms/step - loss: 16321.6414 - mean_absolute_error: 120.2299 - mean_squared_error: 16321.6406\n",
            "Epoch 9/100\n",
            "2026/2026 [==============================] - 71s 35ms/step - loss: 16242.8768 - mean_absolute_error: 120.0806 - mean_squared_error: 16242.8887\n",
            "Epoch 10/100\n",
            "2026/2026 [==============================] - 66s 32ms/step - loss: 16294.2266 - mean_absolute_error: 120.6636 - mean_squared_error: 16294.2197\n",
            "Epoch 11/100\n",
            "2026/2026 [==============================] - 68s 34ms/step - loss: 16323.1555 - mean_absolute_error: 119.4063 - mean_squared_error: 16323.1543\n",
            "Epoch 12/100\n",
            "2026/2026 [==============================] - 66s 33ms/step - loss: 16427.2500 - mean_absolute_error: 118.6063 - mean_squared_error: 16427.2480\n",
            "Epoch 13/100\n",
            "2026/2026 [==============================] - 67s 33ms/step - loss: 16559.1579 - mean_absolute_error: 121.0459 - mean_squared_error: 16559.1562\n",
            "Epoch 14/100\n",
            "2026/2026 [==============================] - 66s 33ms/step - loss: 16469.6480 - mean_absolute_error: 120.2251 - mean_squared_error: 16469.6543\n",
            "Epoch 15/100\n",
            "2026/2026 [==============================] - 67s 33ms/step - loss: 16256.8277 - mean_absolute_error: 118.4445 - mean_squared_error: 16256.8369\n",
            "Epoch 16/100\n",
            "2026/2026 [==============================] - 69s 34ms/step - loss: 16749.0189 - mean_absolute_error: 121.5344 - mean_squared_error: 16749.0156\n",
            "Epoch 17/100\n",
            "2026/2026 [==============================] - 67s 33ms/step - loss: 16342.9633 - mean_absolute_error: 120.9099 - mean_squared_error: 16342.9570\n",
            "Epoch 18/100\n",
            "2026/2026 [==============================] - 67s 33ms/step - loss: 16542.9351 - mean_absolute_error: 122.5524 - mean_squared_error: 16542.9336\n",
            "Epoch 19/100\n",
            "2026/2026 [==============================] - 68s 34ms/step - loss: 16402.5583 - mean_absolute_error: 121.4019 - mean_squared_error: 16402.5488\n",
            "Epoch 20/100\n",
            "2026/2026 [==============================] - 68s 33ms/step - loss: 16253.9225 - mean_absolute_error: 120.9915 - mean_squared_error: 16253.9209\n",
            "Epoch 21/100\n",
            "2026/2026 [==============================] - 66s 33ms/step - loss: 16510.8477 - mean_absolute_error: 121.7844 - mean_squared_error: 16510.8438\n",
            "Epoch 22/100\n",
            "2026/2026 [==============================] - 66s 33ms/step - loss: 16377.5433 - mean_absolute_error: 120.1198 - mean_squared_error: 16377.5576\n",
            "Epoch 23/100\n",
            "2026/2026 [==============================] - 67s 33ms/step - loss: 16459.2151 - mean_absolute_error: 120.1937 - mean_squared_error: 16459.1973\n",
            "Epoch 24/100\n",
            "2026/2026 [==============================] - 67s 33ms/step - loss: 16553.3639 - mean_absolute_error: 121.8333 - mean_squared_error: 16553.3770\n",
            "Epoch 25/100\n",
            "2026/2026 [==============================] - 67s 33ms/step - loss: 16562.9280 - mean_absolute_error: 122.6145 - mean_squared_error: 16562.9258\n",
            "Epoch 26/100\n",
            "2026/2026 [==============================] - 67s 33ms/step - loss: 16401.1668 - mean_absolute_error: 119.6982 - mean_squared_error: 16401.1562\n",
            "Epoch 27/100\n",
            "2026/2026 [==============================] - 68s 34ms/step - loss: 16509.3361 - mean_absolute_error: 122.3648 - mean_squared_error: 16509.3398\n",
            "Epoch 28/100\n",
            "2026/2026 [==============================] - 67s 33ms/step - loss: 16676.3173 - mean_absolute_error: 121.9851 - mean_squared_error: 16676.3066\n",
            "Epoch 29/100\n",
            "2026/2026 [==============================] - 66s 33ms/step - loss: 16700.3028 - mean_absolute_error: 122.3024 - mean_squared_error: 16700.3047\n",
            "Epoch 30/100\n",
            "2026/2026 [==============================] - 66s 33ms/step - loss: 16650.6714 - mean_absolute_error: 121.7345 - mean_squared_error: 16650.6641\n",
            "Epoch 31/100\n",
            "2026/2026 [==============================] - 65s 32ms/step - loss: 16509.9578 - mean_absolute_error: 120.4721 - mean_squared_error: 16509.9512\n",
            "Epoch 32/100\n",
            "2026/2026 [==============================] - 65s 32ms/step - loss: 16427.1311 - mean_absolute_error: 118.7734 - mean_squared_error: 16427.1289\n",
            "Epoch 33/100\n",
            "2026/2026 [==============================] - 65s 32ms/step - loss: 16894.5021 - mean_absolute_error: 120.9926 - mean_squared_error: 16894.5137\n",
            "Epoch 34/100\n",
            "2026/2026 [==============================] - 66s 32ms/step - loss: 16297.8510 - mean_absolute_error: 119.3128 - mean_squared_error: 16297.8398\n",
            "Epoch 35/100\n",
            "2026/2026 [==============================] - 66s 32ms/step - loss: 16275.7482 - mean_absolute_error: 118.7682 - mean_squared_error: 16275.7393\n",
            "Epoch 36/100\n",
            "2026/2026 [==============================] - 66s 32ms/step - loss: 16386.5460 - mean_absolute_error: 119.2082 - mean_squared_error: 16386.5488\n",
            "Epoch 37/100\n",
            "2026/2026 [==============================] - 67s 33ms/step - loss: 16376.1888 - mean_absolute_error: 119.0325 - mean_squared_error: 16376.1787\n",
            "Epoch 38/100\n",
            "2026/2026 [==============================] - 67s 33ms/step - loss: 16377.9335 - mean_absolute_error: 119.4391 - mean_squared_error: 16377.9258\n",
            "Epoch 39/100\n",
            "2026/2026 [==============================] - 67s 33ms/step - loss: 16865.7932 - mean_absolute_error: 120.6341 - mean_squared_error: 16865.8086\n",
            "Epoch 40/100\n",
            "2026/2026 [==============================] - 67s 33ms/step - loss: 16356.4864 - mean_absolute_error: 119.0787 - mean_squared_error: 16356.4883\n",
            "Epoch 41/100\n",
            "2026/2026 [==============================] - 66s 33ms/step - loss: 16629.4128 - mean_absolute_error: 120.5762 - mean_squared_error: 16629.4219\n",
            "Epoch 42/100\n",
            "2026/2026 [==============================] - 66s 32ms/step - loss: 16395.1373 - mean_absolute_error: 119.0774 - mean_squared_error: 16395.1309\n",
            "Epoch 43/100\n",
            "2026/2026 [==============================] - 65s 32ms/step - loss: 16463.6197 - mean_absolute_error: 118.5745 - mean_squared_error: 16463.6270\n",
            "Epoch 44/100\n",
            "2026/2026 [==============================] - 65s 32ms/step - loss: 16716.3106 - mean_absolute_error: 118.9730 - mean_squared_error: 16716.2930\n",
            "Epoch 45/100\n",
            "2026/2026 [==============================] - 64s 32ms/step - loss: 16592.1992 - mean_absolute_error: 117.6209 - mean_squared_error: 16592.2012\n",
            "Epoch 46/100\n",
            "2026/2026 [==============================] - 64s 32ms/step - loss: 16868.1759 - mean_absolute_error: 119.1476 - mean_squared_error: 16868.1797\n",
            "Epoch 47/100\n",
            "2026/2026 [==============================] - 65s 32ms/step - loss: 16351.7799 - mean_absolute_error: 117.5985 - mean_squared_error: 16351.7686\n",
            "Epoch 48/100\n",
            "2026/2026 [==============================] - 66s 33ms/step - loss: 16346.1679 - mean_absolute_error: 117.8873 - mean_squared_error: 16346.1650\n",
            "Epoch 49/100\n",
            "2026/2026 [==============================] - 67s 33ms/step - loss: 16416.2955 - mean_absolute_error: 117.0442 - mean_squared_error: 16416.3047\n",
            "Epoch 50/100\n",
            "2026/2026 [==============================] - 66s 33ms/step - loss: 16383.3981 - mean_absolute_error: 115.7285 - mean_squared_error: 16383.3984\n",
            "Epoch 51/100\n",
            "2026/2026 [==============================] - 68s 34ms/step - loss: 16300.4038 - mean_absolute_error: 117.1667 - mean_squared_error: 16300.4248\n",
            "Epoch 52/100\n",
            "2026/2026 [==============================] - 68s 33ms/step - loss: 16961.7803 - mean_absolute_error: 118.0847 - mean_squared_error: 16961.7832\n",
            "Epoch 53/100\n",
            "2026/2026 [==============================] - 67s 33ms/step - loss: 16455.1265 - mean_absolute_error: 117.1557 - mean_squared_error: 16455.1133\n",
            "Epoch 54/100\n",
            "  99/2026 [>.............................] - ETA: 1:05 - loss: 17851.0133 - mean_absolute_error: 117.0009 - mean_squared_error: 17851.0137"
          ],
          "name": "stdout"
        }
      ]
    },
    {
      "cell_type": "markdown",
      "metadata": {
        "id": "XFosquPf9UYK",
        "colab_type": "text"
      },
      "source": [
        "## Now test the model"
      ]
    },
    {
      "cell_type": "code",
      "metadata": {
        "id": "vCFWPzeB30R_",
        "colab_type": "code",
        "colab": {}
      },
      "source": [
        "example_batch = val_in.to_numpy()\n",
        "example_result = model.predict(example_batch)\n",
        "\n",
        "import matplotlib.pyplot as plt\n",
        "ex_b = pd.DataFrame({'price': val_test.price})\n",
        "ex_r = pd.DataFrame(example_result)\n",
        "\n",
        "plt.figure(figsize = (12,8))\n",
        "plt.plot(ex_r.index, ex_b,label = 'Real')\n",
        "plt.plot(ex_r.index, ex_r, label = 'Prediction')\n",
        "plt.legend(loc = 'best')\n",
        "plt.title('BTC price prediction')"
      ],
      "execution_count": 0,
      "outputs": []
    }
  ]
}