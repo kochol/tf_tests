{
  "nbformat": 4,
  "nbformat_minor": 0,
  "metadata": {
    "colab": {
      "name": "test01.ipynb",
      "version": "0.3.2",
      "provenance": [],
      "collapsed_sections": [],
      "include_colab_link": true
    },
    "kernelspec": {
      "name": "python3",
      "display_name": "Python 3"
    }
  },
  "cells": [
    {
      "cell_type": "markdown",
      "metadata": {
        "id": "view-in-github",
        "colab_type": "text"
      },
      "source": [
        "<a href=\"https://colab.research.google.com/github/kochol/tf_tests/blob/master/test01.ipynb\" target=\"_parent\"><img src=\"https://colab.research.google.com/assets/colab-badge.svg\" alt=\"Open In Colab\"/></a>"
      ]
    },
    {
      "cell_type": "markdown",
      "metadata": {
        "id": "e-O1bNBRsjFd",
        "colab_type": "text"
      },
      "source": [
        "# Test 01"
      ]
    },
    {
      "cell_type": "markdown",
      "metadata": {
        "id": "Nc9-K9jksOT7",
        "colab_type": "text"
      },
      "source": [
        "This is the first test of my tf code."
      ]
    },
    {
      "cell_type": "code",
      "metadata": {
        "id": "neZ_3gOysUrv",
        "colab_type": "code",
        "colab": {
          "base_uri": "https://localhost:8080/",
          "height": 51
        },
        "outputId": "5780b378-9858-467f-b76d-cb2c87ce469d"
      },
      "source": [
        "import tensorflow as tf\n",
        "from tensorflow.keras import layers\n",
        "\n",
        "# enable tf eager execution to support iterating\n",
        "tf.enable_eager_execution()\n",
        "\n",
        "print(tf.VERSION)\n",
        "print(tf.keras.__version__)"
      ],
      "execution_count": 30,
      "outputs": [
        {
          "output_type": "stream",
          "text": [
            "1.13.1\n",
            "2.2.4-tf\n"
          ],
          "name": "stdout"
        }
      ]
    },
    {
      "cell_type": "markdown",
      "metadata": {
        "id": "4EK5PHCxs9gL",
        "colab_type": "text"
      },
      "source": [
        "## Create the model"
      ]
    },
    {
      "cell_type": "markdown",
      "metadata": {
        "id": "QTKd5qQds2Cy",
        "colab_type": "text"
      },
      "source": [
        "Now create the model"
      ]
    },
    {
      "cell_type": "code",
      "metadata": {
        "id": "qip2UQO5s5fJ",
        "colab_type": "code",
        "colab": {}
      },
      "source": [
        "inputs = tf.keras.Input(shape=(8,))  # Returns a placeholder tensor\n",
        "\n",
        "# A layer instance is callable on a tensor, and returns a tensor.\n",
        "x = layers.Dense(64, activation='relu')(inputs)\n",
        "x = layers.Dense(64, activation='relu')(x)\n",
        "predictions = layers.Dense(1, activation='sigmoid')(x)\n",
        "\n",
        "model = tf.keras.Model(inputs=inputs, outputs=predictions)\n",
        "\n",
        "# I want to calc on float numbers so I use mse and mae for loss and metrics\n",
        "# Also I have to find out which optimizer is good for me.\n",
        "model.compile(optimizer=tf.train.AdamOptimizer(0.001),\n",
        "              loss='mse',\n",
        "              metrics=['mae'])"
      ],
      "execution_count": 0,
      "outputs": []
    },
    {
      "cell_type": "markdown",
      "metadata": {
        "id": "AUznfhHyyMhl",
        "colab_type": "text"
      },
      "source": [
        "## Load data from csv file"
      ]
    },
    {
      "cell_type": "code",
      "metadata": {
        "id": "8LP_zhLGyQ0p",
        "colab_type": "code",
        "colab": {
          "base_uri": "https://localhost:8080/",
          "height": 257
        },
        "outputId": "e25b5c04-2de3-4d03-972b-a81754c8a989"
      },
      "source": [
        "import pandas as pd\n",
        "import numpy as np\n",
        "\n",
        "# Download mydata.csv from github\n",
        "!curl --remote-name \\\n",
        "     -H 'Accept: application/vnd.github.v3.raw' \\\n",
        "     --location https://raw.githubusercontent.com/kochol/tf_tests/master/mydata.csv\n",
        "\n",
        "# load all data\n",
        "mydata = pd.read_csv(\"mydata.csv\")\n",
        "\n",
        "print(mydata.columns)\n",
        "print(mydata.dtypes)\n",
        "print(mydata.shape)"
      ],
      "execution_count": 32,
      "outputs": [
        {
          "output_type": "stream",
          "text": [
            "  % Total    % Received % Xferd  Average Speed   Time    Time     Time  Current\n",
            "                                 Dload  Upload   Total   Spent    Left  Speed\n",
            "\r  0     0    0     0    0     0      0      0 --:--:-- --:--:-- --:--:--     0\r100  154k  100  154k    0     0   631k      0 --:--:-- --:--:-- --:--:--  631k\n",
            "Index(['start', 'open', 'high', 'low', 'close', 'vwp', 'volume', 'trades'], dtype='object')\n",
            "start       int64\n",
            "open      float64\n",
            "high      float64\n",
            "low       float64\n",
            "close     float64\n",
            "vwp       float64\n",
            "volume    float64\n",
            "trades      int64\n",
            "dtype: object\n",
            "(1884, 8)\n"
          ],
          "name": "stdout"
        }
      ]
    },
    {
      "cell_type": "markdown",
      "metadata": {
        "id": "GxaIDYj2Vu30",
        "colab_type": "text"
      },
      "source": [
        "Prepare the data for training"
      ]
    },
    {
      "cell_type": "code",
      "metadata": {
        "id": "vgXylRmsWPPA",
        "colab_type": "code",
        "colab": {
          "base_uri": "https://localhost:8080/",
          "height": 103
        },
        "outputId": "0da54718-18d0-4307-c1d6-25b3a7b99c6d"
      },
      "source": [
        "train = mydata.reindex(index=mydata[0:-1])\n",
        "print(train.shape)\n",
        "\n",
        "test = pd.DataFrame({'price': mydata[1:].close})\n",
        "print(test.columns)\n",
        "print(test.dtypes)\n",
        "print(test.shape)"
      ],
      "execution_count": 33,
      "outputs": [
        {
          "output_type": "stream",
          "text": [
            "(1883, 8)\n",
            "Index(['price'], dtype='object')\n",
            "price    float64\n",
            "dtype: object\n",
            "(1883, 1)\n"
          ],
          "name": "stdout"
        }
      ]
    },
    {
      "cell_type": "markdown",
      "metadata": {
        "id": "fjl8t8WE7rGh",
        "colab_type": "text"
      },
      "source": [
        "## Train the model"
      ]
    },
    {
      "cell_type": "code",
      "metadata": {
        "id": "TxrRGyGj8nSQ",
        "colab_type": "code",
        "colab": {
          "base_uri": "https://localhost:8080/",
          "height": 377
        },
        "outputId": "773f1c33-00d3-42ed-9106-c04775d21300"
      },
      "source": [
        "model.fit(train.to_numpy(), test.to_numpy(), epochs=10, batch_size=32)"
      ],
      "execution_count": 36,
      "outputs": [
        {
          "output_type": "stream",
          "text": [
            "Epoch 1/10\n",
            "1883/1883 [==============================] - 0s 94us/sample - loss: nan - mean_absolute_error: nan\n",
            "Epoch 2/10\n",
            "1883/1883 [==============================] - 0s 45us/sample - loss: nan - mean_absolute_error: nan\n",
            "Epoch 3/10\n",
            "1883/1883 [==============================] - 0s 45us/sample - loss: nan - mean_absolute_error: nan\n",
            "Epoch 4/10\n",
            "1883/1883 [==============================] - 0s 45us/sample - loss: nan - mean_absolute_error: nan\n",
            "Epoch 5/10\n",
            "1883/1883 [==============================] - 0s 42us/sample - loss: nan - mean_absolute_error: nan\n",
            "Epoch 6/10\n",
            "1883/1883 [==============================] - 0s 43us/sample - loss: nan - mean_absolute_error: nan\n",
            "Epoch 7/10\n",
            "1883/1883 [==============================] - 0s 44us/sample - loss: nan - mean_absolute_error: nan\n",
            "Epoch 8/10\n",
            "1883/1883 [==============================] - 0s 40us/sample - loss: nan - mean_absolute_error: nan\n",
            "Epoch 9/10\n",
            "1883/1883 [==============================] - 0s 42us/sample - loss: nan - mean_absolute_error: nan\n",
            "Epoch 10/10\n",
            "1883/1883 [==============================] - 0s 42us/sample - loss: nan - mean_absolute_error: nan\n"
          ],
          "name": "stdout"
        },
        {
          "output_type": "execute_result",
          "data": {
            "text/plain": [
              "<tensorflow.python.keras.callbacks.History at 0x7f3112251a90>"
            ]
          },
          "metadata": {
            "tags": []
          },
          "execution_count": 36
        }
      ]
    }
  ]
}